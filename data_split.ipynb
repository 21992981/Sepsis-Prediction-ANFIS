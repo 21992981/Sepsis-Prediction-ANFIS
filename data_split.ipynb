{
 "cells": [
  {
   "cell_type": "code",
   "execution_count": 29,
   "metadata": {},
   "outputs": [],
   "source": [
    "import os\n",
    "import pandas as pd\n",
    "import random\n",
    "\n",
    "# Path to your folder\n",
    "folder_path = 'dataset/sepsis/'\n",
    "\n",
    "# Get list of all files in the folder\n",
    "all_files = os.listdir(folder_path)\n",
    "\n",
    "# Filter the list to include only CSV files\n",
    "csv_files = [f for f in all_files if f.endswith('.csv')]\n",
    "\n",
    "# Use only 250 elements in csv_files with random data\n",
    "fis_files = random.sample(csv_files, 250)\n",
    "anfis_files = [file for file in csv_files if file not in fis_files]\n",
    "\n",
    "# Initialize an empty list to store DataFrames\n",
    "dataframes = []\n",
    "\n",
    "# Loop through CSV files and read them into DataFrames\n",
    "for file in fis_files:\n",
    "    file_path = os.path.join(folder_path, file)  # Full path to the file\n",
    "    patient_no = file[:-4]  # Extract patient number from the file name\n",
    "    df = pd.read_csv(file_path)  # Read CSV into DataFrame\n",
    "    df['patient_id'] = (int(patient_no) *10) + 1  # Add patient number as a new column\n",
    "    df.sepsis_icd = df.sepsis_icd.fillna(1)  # Fill missing values in sepsis_icd column\n",
    "    dataframes.append(df)  # Append the DataFrame to the list\n",
    "\n",
    "# Optionally, you can print or inspect one of the DataFrames\n",
    "\n",
    "# Concatenate all DataFrames into a single DataFrame\n",
    "fis_sepsis_df = pd.concat(dataframes)\n",
    "\n",
    "dataframes = []\n",
    "\n",
    "for file in anfis_files:\n",
    "    file_path = os.path.join(folder_path, file)\n",
    "    patient_no = file[:-4]\n",
    "    df = pd.read_csv(file_path)\n",
    "    df['patient_id'] = (int(patient_no) *10) + 1 \n",
    "    df.sepsis_icd = df.sepsis_icd.fillna(1)\n",
    "    dataframes.append(df)\n",
    "\n",
    "anfis_sepsis_df = pd.concat(dataframes)\n"
   ]
  },
  {
   "cell_type": "code",
   "execution_count": 30,
   "metadata": {},
   "outputs": [],
   "source": [
    "folder_path = 'dataset/no_sepsis/'\n",
    "all_files = os.listdir(folder_path)\n",
    "csv_files = [f for f in all_files if f.endswith('.csv')]\n",
    "fis_files = random.sample(csv_files, 250)\n",
    "anfis_files = [file for file in csv_files if file not in fis_files]\n",
    "dataframes = []\n",
    "for file in fis_files:\n",
    "    file_path = os.path.join(folder_path, file)\n",
    "    patient_no = file[:-4]\n",
    "    df = pd.read_csv(file_path)\n",
    "    df['patient_id'] = (int(patient_no) *10)\n",
    "    df.sepsis_icd = df.sepsis_icd.fillna(0)\n",
    "    dataframes.append(df)\n",
    "fis_no_sepsis_df = pd.concat(dataframes)\n",
    "dataframes = []\n",
    "for file in anfis_files:\n",
    "    file_path = os.path.join(folder_path, file)\n",
    "    patient_no = file[:-4]\n",
    "    df = pd.read_csv(file_path)\n",
    "    df['patient_id'] = (int(patient_no) *10)\n",
    "    df.sepsis_icd = df.sepsis_icd.fillna(0)\n",
    "    dataframes.append(df)\n",
    "anfis_no_sepsis_df = pd.concat(dataframes)"
   ]
  },
  {
   "cell_type": "code",
   "execution_count": 31,
   "metadata": {},
   "outputs": [],
   "source": [
    "fis_df = pd.concat([fis_sepsis_df, fis_no_sepsis_df])\n",
    "anfis_df = pd.concat([anfis_sepsis_df, anfis_no_sepsis_df])"
   ]
  },
  {
   "cell_type": "code",
   "execution_count": 32,
   "metadata": {},
   "outputs": [
    {
     "data": {
      "text/plain": [
       "heart_rate      122\n",
       "bp_systolic     163\n",
       "bp_diastolic    115\n",
       "map             271\n",
       "resp             55\n",
       "temp            292\n",
       "spo2             39\n",
       "fio2             19\n",
       "wbc             278\n",
       "bun             101\n",
       "bilirubin        82\n",
       "creatinine       82\n",
       "lactate         120\n",
       "platelets       369\n",
       "ph               57\n",
       "pco2             69\n",
       "po2             334\n",
       "bicarbonate      36\n",
       "hemoglobin      107\n",
       "hematocrit      252\n",
       "potassium        50\n",
       "chloride         46\n",
       "gcs              13\n",
       "age             455\n",
       "sirs              2\n",
       "qsofa             2\n",
       "sepsis_icd        2\n",
       "patient_id      500\n",
       "dtype: int64"
      ]
     },
     "execution_count": 32,
     "metadata": {},
     "output_type": "execute_result"
    }
   ],
   "source": [
    "fis_df.nunique()"
   ]
  },
  {
   "cell_type": "code",
   "execution_count": 33,
   "metadata": {},
   "outputs": [
    {
     "data": {
      "text/plain": [
       "heart_rate       150\n",
       "bp_systolic      182\n",
       "bp_diastolic     135\n",
       "map              344\n",
       "resp              64\n",
       "temp             346\n",
       "spo2              61\n",
       "fio2              22\n",
       "wbc              388\n",
       "bun              144\n",
       "bilirubin        138\n",
       "creatinine       104\n",
       "lactate          158\n",
       "platelets        517\n",
       "ph                77\n",
       "pco2              94\n",
       "po2              427\n",
       "bicarbonate       40\n",
       "hemoglobin       119\n",
       "hematocrit       292\n",
       "potassium         61\n",
       "chloride          56\n",
       "gcs               13\n",
       "age             1253\n",
       "sirs               2\n",
       "qsofa              2\n",
       "sepsis_icd         2\n",
       "patient_id      1500\n",
       "dtype: int64"
      ]
     },
     "execution_count": 33,
     "metadata": {},
     "output_type": "execute_result"
    }
   ],
   "source": [
    "anfis_df.nunique()"
   ]
  },
  {
   "cell_type": "code",
   "execution_count": 34,
   "metadata": {},
   "outputs": [],
   "source": [
    "fis_df.to_csv('fis.csv', index=False)\n",
    "anfis_df.to_csv('anfis.csv', index=False)"
   ]
  },
  {
   "cell_type": "code",
   "execution_count": null,
   "metadata": {},
   "outputs": [],
   "source": []
  }
 ],
 "metadata": {
  "kernelspec": {
   "display_name": "usr",
   "language": "python",
   "name": "python3"
  },
  "language_info": {
   "codemirror_mode": {
    "name": "ipython",
    "version": 3
   },
   "file_extension": ".py",
   "mimetype": "text/x-python",
   "name": "python",
   "nbconvert_exporter": "python",
   "pygments_lexer": "ipython3",
   "version": "3.12.3"
  }
 },
 "nbformat": 4,
 "nbformat_minor": 2
}
